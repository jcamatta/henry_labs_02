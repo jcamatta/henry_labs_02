{
 "cells": [
  {
   "cell_type": "markdown",
   "id": "f61a6fa9-dda9-40c6-88fe-417bc49ccd00",
   "metadata": {},
   "source": [
    "# AVIATION SAFETY NETWORK - DATA TRANSFORM - V3\n",
    "\n",
    "En este notebook realizaremos una ultima transformacion sobre el dataset resultante del EDA realizado.\n",
    "\n",
    "En particular: \n",
    "1. Imputaremos los datos para asi hacer uso en el dashboard:\n",
    "    - A los datos numericos, los imputamos por la mediana, puesto que la distribucion es asimetrica.\n",
    "    - A los datos categoricos los imputamos segun la distribucion.\n",
    "2. Obtenemos latitude y longitude para cada pais y continente usando la libreria geopy.\n"
   ]
  },
  {
   "cell_type": "code",
   "execution_count": 1,
   "id": "f9a7dd2f-672a-4a5e-80c5-6b01a34fdbd7",
   "metadata": {},
   "outputs": [],
   "source": [
    "import pandas as pd\n",
    "import numpy as np\n",
    "\n",
    "from geopy.geocoders import Nominatim\n",
    "geolocator = Nominatim(user_agent=\"proyecto\")"
   ]
  },
  {
   "cell_type": "code",
   "execution_count": 2,
   "id": "b08f92e5-fc48-4abc-bb7f-566657bd1691",
   "metadata": {},
   "outputs": [],
   "source": [
    "data = pd.read_csv('../../data/transform/asn_final_eda.csv')"
   ]
  },
  {
   "cell_type": "code",
   "execution_count": 3,
   "id": "d01f395d-fc5f-4cc0-bdc7-4bb77d194134",
   "metadata": {},
   "outputs": [
    {
     "data": {
      "text/plain": [
       "(19253, 40)"
      ]
     },
     "execution_count": 3,
     "metadata": {},
     "output_type": "execute_result"
    }
   ],
   "source": [
    "data.shape"
   ]
  },
  {
   "cell_type": "code",
   "execution_count": 4,
   "id": "2675fb80-f8b3-40d2-af68-d94a9187ba78",
   "metadata": {},
   "outputs": [
    {
     "data": {
      "text/plain": [
       "118128"
      ]
     },
     "execution_count": 4,
     "metadata": {},
     "output_type": "execute_result"
    }
   ],
   "source": [
    "# Numero de nulos totales\n",
    "\n",
    "data.isnull().sum().sum()"
   ]
  },
  {
   "cell_type": "code",
   "execution_count": 5,
   "id": "a8b04cea-7208-485e-bb94-81e487e1e7c6",
   "metadata": {},
   "outputs": [],
   "source": [
    "# Seleccionamos las columnas categoricas y las columnas numericas.\n",
    "\n",
    "cols_categoricas = data.select_dtypes(exclude=np.number).columns\n",
    "cols_numericas = data.select_dtypes(include=np.number).columns"
   ]
  },
  {
   "cell_type": "code",
   "execution_count": 6,
   "id": "d39ec02c-91cd-4e0d-85b3-ffb74928c7d5",
   "metadata": {},
   "outputs": [],
   "source": [
    "def imputar_distribucion(dataframe, columnas):\n",
    "    # Calcula la distribucion de valores y elige aleatoriamente un valor para las variables categorias en base a ello.\n",
    "    # Esto se realiza para elemento en columnas.\n",
    "    for c in columnas:\n",
    "        valores_faltantes = dataframe[c].isnull().sum()\n",
    "        categorias = dataframe[c].value_counts().index\n",
    "        distribucion = dataframe[c].value_counts(normalize=True)\n",
    "        \n",
    "        # Generar valores imputados\n",
    "        imputados = np.random.choice(categorias, size=valores_faltantes, p=distribucion)\n",
    "        \n",
    "        # Reemplazar los valores faltantes con los imputados\n",
    "        dataframe.loc[dataframe[c].isnull(), c] = imputados\n",
    "    \n",
    "    return dataframe\n",
    "\n",
    "def imputar_mediana(dataframe, columnas):\n",
    "    for c in columnas:\n",
    "        mediana = dataframe[c].median()\n",
    "        \n",
    "        # Reemplazar los valores faltantes con la mediana\n",
    "        dataframe[c].fillna(mediana, inplace=True)\n",
    "    \n",
    "    return dataframe"
   ]
  },
  {
   "cell_type": "code",
   "execution_count": 7,
   "id": "c04553e6-c60d-47f2-9497-964952ae0c43",
   "metadata": {},
   "outputs": [],
   "source": [
    "new_df = data.copy()\n",
    "\n",
    "new_df = imputar_distribucion(new_df, cols_categoricas)\n",
    "new_df = imputar_mediana(new_df, cols_numericas)"
   ]
  },
  {
   "cell_type": "code",
   "execution_count": 8,
   "id": "4fbd13ad-35eb-4dba-b911-205c92decd22",
   "metadata": {},
   "outputs": [
    {
     "data": {
      "text/plain": [
       "(19253, 40)"
      ]
     },
     "execution_count": 8,
     "metadata": {},
     "output_type": "execute_result"
    }
   ],
   "source": [
    "new_df.shape"
   ]
  },
  {
   "cell_type": "code",
   "execution_count": 9,
   "id": "27649fb0-afd7-4577-976f-958e380ba44b",
   "metadata": {},
   "outputs": [
    {
     "data": {
      "text/plain": [
       "0"
      ]
     },
     "execution_count": 9,
     "metadata": {},
     "output_type": "execute_result"
    }
   ],
   "source": [
    "new_df.isnull().sum().sum()"
   ]
  },
  {
   "cell_type": "code",
   "execution_count": 10,
   "id": "b12ee221-4ac5-4a88-a33a-afc05cf9b355",
   "metadata": {},
   "outputs": [],
   "source": [
    "# Eliminamos del dataset todos aquellos datos con el continente unknown\n",
    "\n",
    "indice = False == (new_df.continente == 'unknown')\n",
    "new_df = new_df.loc[indice]"
   ]
  },
  {
   "cell_type": "code",
   "execution_count": 28,
   "id": "a3639b1e-0257-4a55-9ffd-19138f55234b",
   "metadata": {},
   "outputs": [],
   "source": [
    "# Esta funcion hace uso de geopy.\n",
    "# Dado un pais/continente devuelve la latitud y la longitud. Estos valores son usados posteriormente para graficos de mapa.\n",
    "\n",
    "def get_coords(sitios):\n",
    "    output = {}\n",
    "    for v in sitios:\n",
    "        try:\n",
    "            location = geolocator.geocode(v)\n",
    "            if location is not None:\n",
    "                lat = location.latitude\n",
    "                long = location.longitude\n",
    "            else:\n",
    "                lat = long = np.nan\n",
    "        except:\n",
    "            lat = long = np.nan\n",
    "\n",
    "        output[v] = [lat, long]\n",
    "        \n",
    "    return output\n",
    "\n",
    "# Dado un pais/continente devuelve su latitud si el parametro es True o longitud si es False\n",
    "def extract_coords(pais, latitude=True):\n",
    "    if latitude:\n",
    "        return map[pais][0]\n",
    "    return map[pais][1]"
   ]
  },
  {
   "cell_type": "code",
   "execution_count": 29,
   "id": "cf7464dc-b509-42a3-89a8-5c9b6a15774d",
   "metadata": {},
   "outputs": [
    {
     "name": "stdout",
     "output_type": "stream",
     "text": [
      "205\n"
     ]
    }
   ],
   "source": [
    "print(new_df.pais_accidente.unique().size)\n",
    "\n",
    "# Obtenemos las coordenadas geograficas.\n",
    "map = get_coords(new_df.pais_accidente.unique().tolist())"
   ]
  },
  {
   "cell_type": "code",
   "execution_count": 41,
   "id": "19c1b9ee-4ae3-4221-bd49-f0a7e10455bf",
   "metadata": {},
   "outputs": [],
   "source": [
    "latitude = new_df.pais_accidente.apply(lambda v: extract_coords(v, True))\n",
    "longitude = new_df.pais_accidente.apply(lambda v: extract_coords(v, False))\n",
    "\n",
    "new_df['lat'] = latitude\n",
    "new_df['lon'] = longitude"
   ]
  },
  {
   "cell_type": "code",
   "execution_count": 48,
   "id": "064b214f-7df2-4033-a07f-27ac4ad07eae",
   "metadata": {},
   "outputs": [
    {
     "name": "stdout",
     "output_type": "stream",
     "text": [
      "7\n"
     ]
    }
   ],
   "source": [
    "print(new_df.continente.unique().size)\n",
    "map = get_coords(new_df.continente.unique().tolist())"
   ]
  },
  {
   "cell_type": "code",
   "execution_count": 50,
   "id": "187b1b38-41e5-439d-a220-266334f66ab4",
   "metadata": {},
   "outputs": [],
   "source": [
    "latitude = new_df.continente.apply(lambda v: extract_coords(v, True))\n",
    "longitude = new_df.continente.apply(lambda v: extract_coords(v, False))\n",
    "\n",
    "new_df['lat_cont'] = latitude\n",
    "new_df['lon_cont'] = longitude"
   ]
  },
  {
   "cell_type": "code",
   "execution_count": 51,
   "id": "f9b48974-8117-4811-a102-84d771906c5d",
   "metadata": {},
   "outputs": [
    {
     "data": {
      "text/plain": [
       "(18162, 45)"
      ]
     },
     "execution_count": 51,
     "metadata": {},
     "output_type": "execute_result"
    }
   ],
   "source": [
    "new_df.shape"
   ]
  },
  {
   "cell_type": "code",
   "execution_count": 52,
   "id": "6573e81a-a6fc-4f57-b12e-6d56f2c734ce",
   "metadata": {},
   "outputs": [],
   "source": [
    "# Almacenamos el dataset que luego sera usado por streamlit\n",
    "new_df.to_csv('../../data/transform/asn_final_v3.csv', header=True, index=False, mode='w')"
   ]
  }
 ],
 "metadata": {
  "kernelspec": {
   "display_name": "Python 3 (ipykernel)",
   "language": "python",
   "name": "python3"
  },
  "language_info": {
   "codemirror_mode": {
    "name": "ipython",
    "version": 3
   },
   "file_extension": ".py",
   "mimetype": "text/x-python",
   "name": "python",
   "nbconvert_exporter": "python",
   "pygments_lexer": "ipython3",
   "version": "3.10.10"
  }
 },
 "nbformat": 4,
 "nbformat_minor": 5
}
