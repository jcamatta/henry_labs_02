{
 "cells": [
  {
   "cell_type": "markdown",
   "id": "297860d6-0ab4-4d77-bd35-8ccf3a6493f3",
   "metadata": {},
   "source": [
    "# AVIATION SAFETY NETWORK - DATA TRANSFORM - V2\n",
    "\n",
    "En este notebook continuamos con la transformacion del dataset. En particular, realizamos imputacion de datos para algunas columnas."
   ]
  },
  {
   "cell_type": "code",
   "execution_count": 1,
   "id": "3e19b550",
   "metadata": {},
   "outputs": [],
   "source": [
    "import pandas as pd\n",
    "import numpy as np"
   ]
  },
  {
   "cell_type": "code",
   "execution_count": 2,
   "id": "185cc566",
   "metadata": {},
   "outputs": [
    {
     "data": {
      "text/plain": [
       "(20709, 20)"
      ]
     },
     "execution_count": 2,
     "metadata": {},
     "output_type": "execute_result"
    }
   ],
   "source": [
    "data = pd.read_csv('../../data/transform/asn_final_v1.csv')\n",
    "data.shape"
   ]
  },
  {
   "cell_type": "code",
   "execution_count": 3,
   "id": "7d90d9e6",
   "metadata": {},
   "outputs": [
    {
     "data": {
      "text/plain": [
       "Index(['fecha', 'hora', 'operator', 'total_personas', 'cant_pasajeros',\n",
       "       'cant_tripulantes', 'total_fallecidos', 'pasajeros_fallecidos',\n",
       "       'tripulantes_fallecidos', 'pais_accidente', 'estado_accidente',\n",
       "       'pais_salida', 'estado_salida', 'pais_destino', 'estado_destino',\n",
       "       'primer_vuelo', 'aircraft_damage', 'razon', 'fase', 'narrative'],\n",
       "      dtype='object')"
      ]
     },
     "execution_count": 3,
     "metadata": {},
     "output_type": "execute_result"
    }
   ],
   "source": [
    "data.columns"
   ]
  },
  {
   "cell_type": "markdown",
   "id": "0eac3efa",
   "metadata": {},
   "source": [
    "## IMPUTACION DE DATOS FALTANTES"
   ]
  },
  {
   "cell_type": "code",
   "execution_count": 4,
   "id": "b1d7c8f9",
   "metadata": {},
   "outputs": [
    {
     "data": {
      "text/plain": [
       "fecha                         0\n",
       "hora                      12169\n",
       "operator                    634\n",
       "total_personas             4688\n",
       "cant_pasajeros             6180\n",
       "cant_tripulantes           6255\n",
       "total_fallecidos           2213\n",
       "pasajeros_fallecidos       3171\n",
       "tripulantes_fallecidos     3165\n",
       "pais_accidente              435\n",
       "estado_accidente            775\n",
       "pais_salida                5964\n",
       "estado_salida              7395\n",
       "pais_destino               5772\n",
       "estado_destino             7231\n",
       "primer_vuelo               4772\n",
       "aircraft_damage            1077\n",
       "razon                      2842\n",
       "fase                         24\n",
       "narrative                    73\n",
       "dtype: int64"
      ]
     },
     "execution_count": 4,
     "metadata": {},
     "output_type": "execute_result"
    }
   ],
   "source": [
    "data.isnull().sum()"
   ]
  },
  {
   "cell_type": "markdown",
   "id": "9827b23a",
   "metadata": {},
   "source": [
    "### TOTAL PASAJEROS | TOTAL FALLECIDOS | ETC."
   ]
  },
  {
   "cell_type": "markdown",
   "id": "aad38d0e",
   "metadata": {},
   "source": [
    "Para los datos faltantes asumimos que la cantidad de personas fallecidas es igual al numero de tripulantes y pasajeros en el avion, y viceversa.\n",
    "\n",
    "- Imputamos los datos faltantes en cant_pasajeros como igual al pasajeros_fallecidos\n",
    "- Imputamos los datos faltantes en cant_tripulantes como igual al tripulantes_fallecidos\n",
    "- Imputamos los datos faltantes en total_personas como igual al total_fallecidos\n",
    "\n",
    "Y viceversa, esto es, pasajeros_fallecidos faltantes por cant_pasajeros, etc., etc."
   ]
  },
  {
   "cell_type": "code",
   "execution_count": 5,
   "id": "afb54cd5",
   "metadata": {},
   "outputs": [],
   "source": [
    "columnas_1 = ['cant_pasajeros', 'cant_tripulantes', 'total_personas']\n",
    "columnas_2 = ['pasajeros_fallecidos', 'tripulantes_fallecidos', 'total_fallecidos']\n",
    "\n",
    "for k in range(len(columnas_1)):\n",
    "    \n",
    "    indice_1 = data[columnas_1[k]].isnull()\n",
    "    indice_2 = data[columnas_2[k]].isnull()\n",
    "    \n",
    "    data.loc[indice_1, columnas_1[k]] = data.loc[indice_1, columnas_2[k]]\n",
    "    data.loc[indice_2, columnas_2[k]] = data.loc[indice_2, columnas_1[k]]"
   ]
  },
  {
   "cell_type": "markdown",
   "id": "8c1d0fff",
   "metadata": {},
   "source": [
    "Tenemos dos opciones frente a los datos faltantes:\n",
    "1. Eliminar dichos datos.\n",
    "2. Imputar los valores.\n",
    "\n",
    "Dado que existe una relacion entre dichas columnas y sus respectivos totales, a saber: \"total_personas\" y \"total_fallecidos\", vamos a imputar.\n",
    "\n",
    "Recordemos que: $total = pasajeros + tripulantes$. Por lo que $ tripulantes = total - total * proporcionPasajeros$"
   ]
  },
  {
   "cell_type": "markdown",
   "id": "3f2c70f6",
   "metadata": {},
   "source": [
    "Para saber si calculamos la proporcion por la media o la mediana, veamos sus distribuciones.\n",
    "\n",
    "Aunque sabemos que segun la ley de grandes numeros. Para n grandes, la distribucion de la proporcion se asemeja a una distribucion normal."
   ]
  },
  {
   "cell_type": "code",
   "execution_count": 6,
   "id": "98702d0a",
   "metadata": {},
   "outputs": [
    {
     "data": {
      "text/plain": [
       "<Axes: >"
      ]
     },
     "execution_count": 6,
     "metadata": {},
     "output_type": "execute_result"
    },
    {
     "data": {
      "image/png": "[encoded data removed]",
      "text/plain": [
       "<Figure size 640x480 with 1 Axes>"
      ]
     },
     "metadata": {},
     "output_type": "display_data"
    }
   ],
   "source": [
    "x = (data.cant_pasajeros / data.total_personas).replace([np.inf, -np.inf], np.nan)\n",
    "y = (data.pasajeros_fallecidos / data.total_fallecidos).replace([np.inf, -np.inf], np.nan)\n",
    "\n",
    "x.hist()\n",
    "y.hist()"
   ]
  },
  {
   "cell_type": "markdown",
   "id": "ced348db",
   "metadata": {},
   "source": [
    "Su distribucion no sigue ningun patron simetrico, por lo que tomaremos la mediana"
   ]
  },
  {
   "cell_type": "code",
   "execution_count": 7,
   "id": "21307ac3",
   "metadata": {},
   "outputs": [
    {
     "data": {
      "text/plain": [
       "(0.5, 0.5)"
      ]
     },
     "execution_count": 7,
     "metadata": {},
     "output_type": "execute_result"
    }
   ],
   "source": [
    "# Calculamos la mediana de la proporcion para \"cant_pasajeros\" y \"pasajeros_fallecidos\"\n",
    "proporcion_cant_pasajeros = x.median(skipna=True)\n",
    "proporcion_pasajeros_fallecidos = y.median(skipna=True)\n",
    "proporcion_cant_pasajeros, proporcion_pasajeros_fallecidos"
   ]
  },
  {
   "cell_type": "code",
   "execution_count": 8,
   "id": "6f2cec9b",
   "metadata": {},
   "outputs": [],
   "source": [
    "# Imputamos los datos faltantes\n",
    "\n",
    "# cant_pasajeros/pasajeros_fallecidos = proporcion * total\n",
    "indice = data.cant_pasajeros.isnull()\n",
    "data.loc[indice, 'cant_pasajeros'] = proporcion_cant_pasajeros * data.loc[indice, 'total_personas']\n",
    "# cant_tripulantes = total - cant_pasajeros\n",
    "data.loc[indice, 'cant_tripulantes'] = data.loc[indice, 'total_personas'] - data.loc[indice, 'cant_pasajeros']\n",
    "\n",
    "# Del mismo modo, pero para las columnas de fallecidos\n",
    "\n",
    "# cant_pasajeros/pasajeros_fallecidos = proporcion * total\n",
    "indice = data.pasajeros_fallecidos.isnull()\n",
    "data.loc[indice, 'pasajeros_fallecidos'] = proporcion_pasajeros_fallecidos * data.loc[indice, 'total_fallecidos']\n",
    "# cant_tripulantes = total - cant_pasajeros\n",
    "data.loc[indice, 'tripulantes_fallecidos'] = data.loc[indice, 'total_fallecidos'] - data.loc[indice, 'pasajeros_fallecidos']"
   ]
  },
  {
   "cell_type": "markdown",
   "id": "a81225e6",
   "metadata": {},
   "source": [
    "- Para los datos faltantes en total_personas, imputamos como la suma de cant_pasajeros + cant_tripulantes.\n",
    "\n",
    "- Para los datos faltantes en total_fallecidos, imputamos como la suma de pasajeros_fallecidos + tripulantes_fallecidos."
   ]
  },
  {
   "cell_type": "code",
   "execution_count": 9,
   "id": "d904dbd7",
   "metadata": {},
   "outputs": [],
   "source": [
    "indice_1 = data['total_fallecidos'].isnull()\n",
    "data.loc[indice_1, 'total_fallecidos'] = data.loc[indice_1, 'pasajeros_fallecidos'] + data.loc[indice_1, 'tripulantes_fallecidos']\n",
    "\n",
    "indice_2 = data['total_personas'].isnull()\n",
    "data.loc[indice_2, 'total_personas'] = data.loc[indice_2, 'cant_pasajeros'] + data.loc[indice_2, 'cant_tripulantes']"
   ]
  },
  {
   "cell_type": "markdown",
   "id": "158c613b",
   "metadata": {},
   "source": [
    "Veamos como es el resultado final del dataset con respecto a los nulos.\n",
    "\n",
    "Naturalmente, van a quedar, ya que la operacion entre un numero y un valor faltantes es otro valor faltante."
   ]
  },
  {
   "cell_type": "code",
   "execution_count": 10,
   "id": "d30748e5",
   "metadata": {},
   "outputs": [
    {
     "data": {
      "text/plain": [
       "fecha                         0\n",
       "hora                      12169\n",
       "operator                    634\n",
       "total_personas             2204\n",
       "cant_pasajeros             2203\n",
       "cant_tripulantes           2204\n",
       "total_fallecidos           2204\n",
       "pasajeros_fallecidos       2203\n",
       "tripulantes_fallecidos     2204\n",
       "pais_accidente              435\n",
       "estado_accidente            775\n",
       "pais_salida                5964\n",
       "estado_salida              7395\n",
       "pais_destino               5772\n",
       "estado_destino             7231\n",
       "primer_vuelo               4772\n",
       "aircraft_damage            1077\n",
       "razon                      2842\n",
       "fase                         24\n",
       "narrative                    73\n",
       "dtype: int64"
      ]
     },
     "execution_count": 10,
     "metadata": {},
     "output_type": "execute_result"
    }
   ],
   "source": [
    "data.isnull().sum()"
   ]
  },
  {
   "cell_type": "markdown",
   "id": "fd3b6ea7",
   "metadata": {},
   "source": [
    "Convertimos las valores de las columnas a valores enteros."
   ]
  },
  {
   "cell_type": "code",
   "execution_count": 11,
   "id": "fb7721ae",
   "metadata": {},
   "outputs": [],
   "source": [
    "def auxiliar(v):\n",
    "    try:\n",
    "        return int(v)\n",
    "    except:\n",
    "        return np.nan\n",
    "\n",
    "columnas_3 = columnas_1 + columnas_2\n",
    "\n",
    "for c in columnas_3:\n",
    "    data[c] = data[c].apply(lambda v:auxiliar(v))"
   ]
  },
  {
   "cell_type": "markdown",
   "id": "26e07f95",
   "metadata": {},
   "source": [
    "<hr>\n",
    "\n",
    "Por ultimo, eliminamos duplicados.\n",
    "\n",
    "Consideramos duplicados aquellos accidentes que ocurrieron en una misma fecha y en un mismo pais."
   ]
  },
  {
   "cell_type": "code",
   "execution_count": 12,
   "id": "69311ed5",
   "metadata": {},
   "outputs": [
    {
     "name": "stdout",
     "output_type": "stream",
     "text": [
      "antes: 20709\n",
      "despues: 19291\n"
     ]
    }
   ],
   "source": [
    "print('antes:', data.shape[0])\n",
    "data = data.drop_duplicates(subset=['fecha', 'pais_accidente'])\n",
    "print('despues:', data.shape[0])"
   ]
  },
  {
   "cell_type": "code",
   "execution_count": 13,
   "id": "0810b53f",
   "metadata": {},
   "outputs": [
    {
     "name": "stdout",
     "output_type": "stream",
     "text": [
      "<class 'pandas.core.frame.DataFrame'>\n",
      "Index: 19291 entries, 0 to 20708\n",
      "Data columns (total 20 columns):\n",
      " #   Column                  Non-Null Count  Dtype  \n",
      "---  ------                  --------------  -----  \n",
      " 0   fecha                   19291 non-null  object \n",
      " 1   hora                    8064 non-null   object \n",
      " 2   operator                18690 non-null  object \n",
      " 3   total_personas          17448 non-null  float64\n",
      " 4   cant_pasajeros          17449 non-null  float64\n",
      " 5   cant_tripulantes        17448 non-null  float64\n",
      " 6   total_fallecidos        17448 non-null  float64\n",
      " 7   pasajeros_fallecidos    17449 non-null  float64\n",
      " 8   tripulantes_fallecidos  17448 non-null  float64\n",
      " 9   pais_accidente          18904 non-null  object \n",
      " 10  estado_accidente        18602 non-null  object \n",
      " 11  pais_salida             13811 non-null  object \n",
      " 12  estado_salida           12807 non-null  object \n",
      " 13  pais_destino            14020 non-null  object \n",
      " 14  estado_destino          12986 non-null  object \n",
      " 15  primer_vuelo            15082 non-null  float64\n",
      " 16  aircraft_damage         18255 non-null  object \n",
      " 17  razon                   16830 non-null  object \n",
      " 18  fase                    19283 non-null  object \n",
      " 19  narrative               19225 non-null  object \n",
      "dtypes: float64(7), object(13)\n",
      "memory usage: 3.1+ MB\n"
     ]
    }
   ],
   "source": [
    "data.info()"
   ]
  },
  {
   "cell_type": "markdown",
   "id": "ee816bc0-0360-42a4-8a86-cbe3eb66cc3a",
   "metadata": {},
   "source": [
    "### PAIS | ESTADO ACCIDENTE"
   ]
  },
  {
   "cell_type": "code",
   "execution_count": 14,
   "id": "e2b5a702-c83f-4b94-bd33-69eef3ff3890",
   "metadata": {},
   "outputs": [],
   "source": [
    "data.pais_accidente = data.pais_accidente.str.replace('[^a-zA-Z\\s]', '', regex=True)"
   ]
  },
  {
   "cell_type": "code",
   "execution_count": 15,
   "id": "67446c23",
   "metadata": {},
   "outputs": [],
   "source": [
    "data.to_csv('../../data/transform/asn_final_v2.csv', header=True, index=False, sep=',', mode='w')"
   ]
  }
 ],
 "metadata": {
  "kernelspec": {
   "display_name": "Python 3 (ipykernel)",
   "language": "python",
   "name": "python3"
  },
  "language_info": {
   "codemirror_mode": {
    "name": "ipython",
    "version": 3
   },
   "file_extension": ".py",
   "mimetype": "text/x-python",
   "name": "python",
   "nbconvert_exporter": "python",
   "pygments_lexer": "ipython3",
   "version": "3.10.10"
  }
 },
 "nbformat": 4,
 "nbformat_minor": 5
}
