{
 "cells": [
  {
   "cell_type": "markdown",
   "id": "863dd8d4",
   "metadata": {},
   "source": [
    "# AVIATION SAFETY NETWORK - DATA TRANSFORM\n",
    "\n",
    "En este notebook transformamos el dataset y lo adaptamos para la realizacion de analisis."
   ]
  },
  {
   "cell_type": "markdown",
   "id": "e888af4c",
   "metadata": {},
   "source": [
    "## IMPORTAMOS DATOS"
   ]
  },
  {
   "cell_type": "code",
   "execution_count": 3,
   "id": "f98bbf0b",
   "metadata": {},
   "outputs": [],
   "source": [
    "import pandas as pd\n",
    "import numpy as np"
   ]
  },
  {
   "cell_type": "code",
   "execution_count": 4,
   "id": "2796202c",
   "metadata": {},
   "outputs": [],
   "source": [
    "asn = pd.read_json('../../data/raw_data/aviation_safety_network.json')\n",
    "modify = asn.copy()"
   ]
  },
  {
   "cell_type": "code",
   "execution_count": 5,
   "id": "fca5e68c",
   "metadata": {},
   "outputs": [],
   "source": [
    "modify.head()"
   ]
  },
  {
   "cell_type": "markdown",
   "id": "582604d4",
   "metadata": {},
   "source": [
    "## TRANSFORMACION [ ETL ]\n",
    "\n",
    "Adaptemos nuestro external data al dataset provisto por el cliente.\n",
    "\n",
    "1. Eliminamos columnas con menor o igual a 20.000 datos.\n",
    "2. Eliminamos filas que contengan todos datos nulos."
   ]
  },
  {
   "cell_type": "code",
   "execution_count": 6,
   "id": "9179405c",
   "metadata": {},
   "outputs": [],
   "source": [
    "modify.shape"
   ]
  },
  {
   "cell_type": "code",
   "execution_count": 7,
   "id": "7656b529",
   "metadata": {},
   "outputs": [],
   "source": [
    "modify = modify.dropna(how='all')\n",
    "modify.shape"
   ]
  },
  {
   "cell_type": "code",
   "execution_count": 8,
   "id": "ecdf07b0",
   "metadata": {},
   "outputs": [],
   "source": [
    "indice = modify.isnull().sum() > 0\n",
    "modify.columns[indice]"
   ]
  },
  {
   "cell_type": "markdown",
   "id": "98526733",
   "metadata": {},
   "source": [
    "Cambiemos el formato de cierta valores en las columnas para re-ajustarla a nuestro caso de uso."
   ]
  },
  {
   "cell_type": "code",
   "execution_count": 9,
   "id": "219eec30",
   "metadata": {},
   "outputs": [],
   "source": [
    "modify.columns"
   ]
  },
  {
   "cell_type": "markdown",
   "id": "3cdd9cf7",
   "metadata": {},
   "source": [
    "###  DATE"
   ]
  },
  {
   "cell_type": "code",
   "execution_count": 10,
   "id": "a32fe154",
   "metadata": {},
   "outputs": [],
   "source": [
    "modify.date[20000]"
   ]
  },
  {
   "cell_type": "code",
   "execution_count": 11,
   "id": "7ba2dffd",
   "metadata": {},
   "outputs": [],
   "source": [
    "modify['fecha'] = pd.to_datetime(modify['date'], format='%A %d %B %Y', errors='coerce')"
   ]
  },
  {
   "cell_type": "markdown",
   "id": "9a59d669",
   "metadata": {},
   "source": [
    "A aquellas fechas a las cuales les falte el mes o el dia, le remplazaremos, respectivamente, por el mes de enero o el primer dia del mes."
   ]
  },
  {
   "cell_type": "code",
   "execution_count": 12,
   "id": "fa77934b",
   "metadata": {},
   "outputs": [],
   "source": [
    "from datetime import datetime\n",
    "\n",
    "def obtener_numero_mes(nombre_mes):\n",
    "    fecha_dummy = datetime.strptime(nombre_mes, '%b')\n",
    "    numero_mes = str(fecha_dummy.month)\n",
    "    if len(numero_mes) == 2:\n",
    "        return numero_mes\n",
    "    return '0' + numero_mes\n",
    "\n",
    "def correct_date(v):\n",
    "    v = v.strip()\n",
    "    try:\n",
    "        y = int(v)\n",
    "        return f'{y}-01-01'\n",
    "    except:\n",
    "        m, y = [x.strip() for x in v.split(' ')]\n",
    "        m = obtener_numero_mes(m)\n",
    "        return f'{y}-{m}-01'"
   ]
  },
  {
   "cell_type": "code",
   "execution_count": 13,
   "id": "ea0747e0",
   "metadata": {},
   "outputs": [],
   "source": [
    "indice = modify.fecha.isnull()\n",
    "modify.loc[indice, 'fecha'] = modify.loc[indice, 'date'].str.replace('x', '').apply(correct_date)"
   ]
  },
  {
   "cell_type": "markdown",
   "id": "e2ec5c85",
   "metadata": {},
   "source": [
    "### CREW"
   ]
  },
  {
   "cell_type": "code",
   "execution_count": 14,
   "id": "490f1712",
   "metadata": {},
   "outputs": [],
   "source": [
    "import re"
   ]
  },
  {
   "cell_type": "code",
   "execution_count": 15,
   "id": "856d47c5",
   "metadata": {},
   "outputs": [],
   "source": [
    "modify.crew.sample(3)"
   ]
  },
  {
   "cell_type": "code",
   "execution_count": 16,
   "id": "5e09909f",
   "metadata": {},
   "outputs": [],
   "source": [
    "def extract_fatalities(columna):\n",
    "    fallecidos = []\n",
    "    ocupantes = []\n",
    "    for record in columna:\n",
    "\n",
    "        # Extraer número de fatalities utilizando expresión regular\n",
    "        match_fatalities = re.search(r\"fatalities: (\\d+)\", record)\n",
    "        if match_fatalities:\n",
    "            fallecidos.append(int(match_fatalities.group(1)))\n",
    "        else:\n",
    "            fallecidos.append(np.nan)\n",
    "\n",
    "        # Extraer número de occupants utilizando expresión regular\n",
    "        match_occupants = re.search(r\"occupants: (\\d+)\", record)\n",
    "        if match_occupants:\n",
    "            ocupantes.append(int(match_occupants.group(1)))\n",
    "        else:\n",
    "            ocupantes.append(np.nan)\n",
    "            \n",
    "    return fallecidos, ocupantes"
   ]
  },
  {
   "cell_type": "code",
   "execution_count": 17,
   "id": "dfc839fc",
   "metadata": {},
   "outputs": [],
   "source": [
    "tripulantes_fallecidos, cant_tripulantes = extract_fatalities(modify.crew)"
   ]
  },
  {
   "cell_type": "code",
   "execution_count": 18,
   "id": "509efa80",
   "metadata": {},
   "outputs": [],
   "source": [
    "len(tripulantes_fallecidos), len(cant_tripulantes)"
   ]
  },
  {
   "cell_type": "code",
   "execution_count": 19,
   "id": "a614442e",
   "metadata": {},
   "outputs": [],
   "source": [
    "modify['cant_tripulantes'] = cant_tripulantes\n",
    "modify['tripulantes_fallecidos'] = tripulantes_fallecidos"
   ]
  },
  {
   "cell_type": "markdown",
   "id": "416f9767",
   "metadata": {},
   "source": [
    "### PASSENGERS"
   ]
  },
  {
   "cell_type": "code",
   "execution_count": 20,
   "id": "7ff9ee32",
   "metadata": {},
   "outputs": [],
   "source": [
    "modify.passengers.sample(3)"
   ]
  },
  {
   "cell_type": "code",
   "execution_count": 21,
   "id": "55fcff76",
   "metadata": {},
   "outputs": [],
   "source": [
    "pasajeros_fallecidos, cant_pasajeros = extract_fatalities(modify.passengers)\n",
    "\n",
    "print(len(pasajeros_fallecidos), len(cant_pasajeros))\n",
    "\n",
    "modify['cant_pasajeros'] = cant_pasajeros\n",
    "modify['pasajeros_fallecidos'] = pasajeros_fallecidos"
   ]
  },
  {
   "cell_type": "markdown",
   "id": "c54e041c",
   "metadata": {},
   "source": [
    "### TOTAL"
   ]
  },
  {
   "cell_type": "code",
   "execution_count": 22,
   "id": "a039af1b",
   "metadata": {},
   "outputs": [],
   "source": [
    "modify.total.sample(3)"
   ]
  },
  {
   "cell_type": "code",
   "execution_count": 23,
   "id": "bb41c181",
   "metadata": {},
   "outputs": [],
   "source": [
    "total_fallecidos, total_personas = extract_fatalities(modify.total)\n",
    "\n",
    "print(len(total_fallecidos), len(total_personas))\n",
    "\n",
    "modify['total_personas'] = total_personas\n",
    "modify['total_fallecidos'] = total_fallecidos"
   ]
  },
  {
   "cell_type": "markdown",
   "id": "910fba02",
   "metadata": {},
   "source": [
    "### LOCATION"
   ]
  },
  {
   "cell_type": "code",
   "execution_count": 24,
   "id": "086cec5e",
   "metadata": {},
   "outputs": [],
   "source": [
    "modify.location.head()"
   ]
  },
  {
   "cell_type": "code",
   "execution_count": 25,
   "id": "13f4d1e3",
   "metadata": {},
   "outputs": [],
   "source": [
    "modify = modify.reset_index(drop=True)"
   ]
  },
  {
   "cell_type": "code",
   "execution_count": 26,
   "id": "b9a6a9b3",
   "metadata": {},
   "outputs": [],
   "source": [
    "texto = modify.loc[np.random.randint(0, modify.shape[0]), 'location']\n",
    "texto"
   ]
  },
  {
   "cell_type": "code",
   "execution_count": 27,
   "id": "6214026c",
   "metadata": {},
   "outputs": [],
   "source": [
    "def extraer_pais_ciudad(columna):\n",
    "    paises = []\n",
    "    estados = []\n",
    "    for string in columna:\n",
    "        parentesis_1 = string.rfind('(')\n",
    "        parentesis_2 = string.rfind(')')\n",
    "\n",
    "        pais = string[parentesis_1 + 1:parentesis_2].strip()\n",
    "        estado = string[:parentesis_1].strip()\n",
    "        \n",
    "        paises.append(pais)\n",
    "        estados.append(estado)\n",
    "        \n",
    "    return paises, estados"
   ]
  },
  {
   "cell_type": "code",
   "execution_count": 28,
   "id": "fbb32405",
   "metadata": {},
   "outputs": [],
   "source": [
    "paises, estados = extraer_pais_ciudad(modify.location)\n",
    "len(paises), len(estados)"
   ]
  },
  {
   "cell_type": "code",
   "execution_count": 29,
   "id": "94b19326",
   "metadata": {},
   "outputs": [],
   "source": [
    "print(paises[:5])\n",
    "print(estados[:5])"
   ]
  },
  {
   "cell_type": "code",
   "execution_count": 30,
   "id": "7eea6b8c",
   "metadata": {},
   "outputs": [],
   "source": [
    "modify['pais_accidente'] = paises\n",
    "modify['estado_accidente'] = estados"
   ]
  },
  {
   "cell_type": "markdown",
   "id": "9fb58047",
   "metadata": {},
   "source": [
    "### DEPARTURE AIRPORT"
   ]
  },
  {
   "cell_type": "code",
   "execution_count": 31,
   "id": "fa634d2f",
   "metadata": {},
   "outputs": [],
   "source": [
    "modify['departure airport']"
   ]
  },
  {
   "cell_type": "code",
   "execution_count": 32,
   "id": "7c0f9da6",
   "metadata": {},
   "outputs": [],
   "source": [
    "def extraer_salida_destino(columna):\n",
    "    paises = []\n",
    "    estados = []\n",
    "    for string in columna:\n",
    "        sep = string.rfind(',')\n",
    "\n",
    "        pais = string[sep + 1:].strip()\n",
    "        estado = string[:sep].strip()\n",
    "        \n",
    "        paises.append(pais)\n",
    "        estados.append(estado)\n",
    "        \n",
    "    return paises, estados"
   ]
  },
  {
   "cell_type": "code",
   "execution_count": 33,
   "id": "0c9ee38e",
   "metadata": {},
   "outputs": [],
   "source": [
    "paises, estados = extraer_salida_destino(modify['departure airport'])\n",
    "\n",
    "print(len(paises), len(estados))\n",
    "\n",
    "print(paises[:5])\n",
    "print(estados[:5])"
   ]
  },
  {
   "cell_type": "code",
   "execution_count": 34,
   "id": "0eb3d3e9",
   "metadata": {},
   "outputs": [],
   "source": [
    "modify['pais_salida'] = paises\n",
    "modify['estado_salida'] = estados"
   ]
  },
  {
   "cell_type": "markdown",
   "id": "dee479e7",
   "metadata": {},
   "source": [
    "### DESTINATION AIRPORT"
   ]
  },
  {
   "cell_type": "code",
   "execution_count": 35,
   "id": "f3c8a9d6",
   "metadata": {},
   "outputs": [],
   "source": [
    "modify['destination airport'].head(5)"
   ]
  },
  {
   "cell_type": "code",
   "execution_count": 36,
   "id": "523d16af",
   "metadata": {},
   "outputs": [],
   "source": [
    "paises, estados = extraer_salida_destino(modify['destination airport'])\n",
    "\n",
    "print(len(paises), len(estados))\n",
    "\n",
    "print(paises[:5])\n",
    "print(estados[:5])"
   ]
  },
  {
   "cell_type": "code",
   "execution_count": 37,
   "id": "d7f5accd",
   "metadata": {},
   "outputs": [],
   "source": [
    "modify['pais_destino'] = paises\n",
    "modify['estado_destino'] = estados"
   ]
  },
  {
   "cell_type": "markdown",
   "id": "a769778b",
   "metadata": {},
   "source": [
    "### CORRECT DEPARTURE / DESTINATION UNKNOWN VALUES"
   ]
  },
  {
   "cell_type": "code",
   "execution_count": 38,
   "id": "1ac92228",
   "metadata": {},
   "outputs": [],
   "source": [
    "def correct_unknown(v):\n",
    "    v = v.strip()\n",
    "    if v == '?':\n",
    "        return np.nan\n",
    "    elif v == '':\n",
    "        return np.nan\n",
    "    elif v.count('unknown') > 0:\n",
    "        return np.nan\n",
    "    return v"
   ]
  },
  {
   "cell_type": "code",
   "execution_count": 39,
   "id": "d4618182",
   "metadata": {},
   "outputs": [],
   "source": [
    "columnas = ['pais_accidente', 'pais_salida', 'pais_destino',\n",
    "            'estado_accidente', 'estado_salida', 'estado_destino']"
   ]
  },
  {
   "cell_type": "code",
   "execution_count": 40,
   "id": "c08391dd",
   "metadata": {},
   "outputs": [],
   "source": [
    "print('Numero de datos faltantes\\n')\n",
    "for c in columnas:\n",
    "    x = modify[c].apply(correct_unknown)\n",
    "    modify[c] = x\n",
    "    \n",
    "    num =  x.isnull().sum()\n",
    "    print(f'{c}: {num} ({num / modify.shape[0] * 100:.2f})%')\n",
    "    print()"
   ]
  },
  {
   "cell_type": "markdown",
   "id": "28f81496",
   "metadata": {},
   "source": [
    "### FIRST FLIGHT"
   ]
  },
  {
   "cell_type": "code",
   "execution_count": 41,
   "id": "2852519d",
   "metadata": {},
   "outputs": [],
   "source": [
    "modify['first flight'].sample(5)"
   ]
  },
  {
   "cell_type": "code",
   "execution_count": 42,
   "id": "0726cc5b",
   "metadata": {},
   "outputs": [],
   "source": [
    "def extract_year(v):\n",
    "    try:\n",
    "        y = int(v)\n",
    "        return y\n",
    "    except:\n",
    "        x = v.split('-')\n",
    "        try:\n",
    "            y = int(x[0])\n",
    "            return y\n",
    "        except:\n",
    "            return np.nan"
   ]
  },
  {
   "cell_type": "code",
   "execution_count": 43,
   "id": "a1be1659",
   "metadata": {},
   "outputs": [],
   "source": [
    "modify['primer_vuelo'] = modify['first flight'].apply(extract_year)"
   ]
  },
  {
   "cell_type": "markdown",
   "id": "d1944d01",
   "metadata": {},
   "source": [
    "### TIME"
   ]
  },
  {
   "cell_type": "code",
   "execution_count": 44,
   "id": "0f009a7f",
   "metadata": {},
   "outputs": [],
   "source": [
    "def format_time(v):\n",
    "    try:\n",
    "        hh, mm = v.split(':')\n",
    "        if len(hh) == 2 and len(mm) == 2:\n",
    "            return v\n",
    "    except:\n",
    "        return np.nan"
   ]
  },
  {
   "cell_type": "code",
   "execution_count": 45,
   "id": "5cbc66ea",
   "metadata": {},
   "outputs": [],
   "source": [
    "modify['hora'] = modify.time.apply(format_time)"
   ]
  },
  {
   "cell_type": "markdown",
   "id": "af57ebaa",
   "metadata": {},
   "source": [
    "### AIRCRAFT DAMAGE"
   ]
  },
  {
   "cell_type": "code",
   "execution_count": 46,
   "id": "4dc660f0",
   "metadata": {},
   "outputs": [],
   "source": [
    "modify['aircraft damage'].unique()"
   ]
  },
  {
   "cell_type": "code",
   "execution_count": 47,
   "id": "58aabc31",
   "metadata": {},
   "outputs": [],
   "source": [
    "def edit_error_data(columna, missing):\n",
    "    \n",
    "    def auxiliar(v, k):\n",
    "        try:\n",
    "            if k == v.strip():\n",
    "                return np.nan\n",
    "            else:\n",
    "                return v\n",
    "        except:\n",
    "            return np.nan\n",
    "\n",
    "    for k in missing:\n",
    "        columna = columna.apply(lambda v: auxiliar(v, k))\n",
    "    return columna"
   ]
  },
  {
   "cell_type": "code",
   "execution_count": 48,
   "id": "d9b23b48",
   "metadata": {},
   "outputs": [],
   "source": [
    "output = edit_error_data(modify['aircraft damage'], ['none', '', 'unknown'])\n",
    "output.unique()"
   ]
  },
  {
   "cell_type": "code",
   "execution_count": 49,
   "id": "f29fdfed",
   "metadata": {},
   "outputs": [],
   "source": [
    "modify['aircraft_damage'] = output"
   ]
  },
  {
   "cell_type": "markdown",
   "id": "51a4a903",
   "metadata": {},
   "source": [
    "### NATURE"
   ]
  },
  {
   "cell_type": "code",
   "execution_count": 50,
   "id": "79dc3d16",
   "metadata": {},
   "outputs": [],
   "source": [
    "modify.nature.unique()"
   ]
  },
  {
   "cell_type": "code",
   "execution_count": 51,
   "id": "33166a71",
   "metadata": {
    "scrolled": true
   },
   "outputs": [],
   "source": [
    "output = edit_error_data(modify['nature'], ['-', '', 'unknown'])\n",
    "output.unique()"
   ]
  },
  {
   "cell_type": "code",
   "execution_count": 52,
   "id": "f5b7ac6d",
   "metadata": {},
   "outputs": [],
   "source": [
    "modify['razon'] = output"
   ]
  },
  {
   "cell_type": "markdown",
   "id": "8291cdb7",
   "metadata": {},
   "source": [
    "### PHASE"
   ]
  },
  {
   "cell_type": "code",
   "execution_count": 53,
   "id": "337bb6f8",
   "metadata": {},
   "outputs": [],
   "source": [
    "modify.phase.unique()"
   ]
  },
  {
   "cell_type": "code",
   "execution_count": 54,
   "id": "1cb9d913",
   "metadata": {},
   "outputs": [],
   "source": [
    "def extraer_phase_complete(v):\n",
    "    parentesis = v.rfind('(')\n",
    "    output = v[:parentesis].strip()\n",
    "    if len(output) == 0:\n",
    "        return np.nan\n",
    "    return v[:parentesis].strip()"
   ]
  },
  {
   "cell_type": "code",
   "execution_count": 55,
   "id": "b23ff765",
   "metadata": {},
   "outputs": [],
   "source": [
    "modify['fase'] = modify.phase.apply(extraer_phase_complete)"
   ]
  },
  {
   "cell_type": "code",
   "execution_count": 56,
   "id": "0f76e3f5",
   "metadata": {},
   "outputs": [],
   "source": [
    "modify.fase.isnull().sum()"
   ]
  },
  {
   "cell_type": "markdown",
   "id": "e89bba26",
   "metadata": {},
   "source": [
    "## SELECCION DE LAS COLUMNAS"
   ]
  },
  {
   "cell_type": "code",
   "execution_count": 57,
   "id": "b009ef49",
   "metadata": {},
   "outputs": [],
   "source": [
    "modify.shape"
   ]
  },
  {
   "cell_type": "code",
   "execution_count": 58,
   "id": "2f9a8003",
   "metadata": {},
   "outputs": [],
   "source": [
    "modify.columns"
   ]
  },
  {
   "cell_type": "markdown",
   "id": "0b2acfb6",
   "metadata": {},
   "source": [
    "**Conservamos toda columna con un numero de datos no nulos mayor a 60% de los datos exceptuando la columna \"hora\".**"
   ]
  },
  {
   "cell_type": "code",
   "execution_count": 59,
   "id": "d70d7faa",
   "metadata": {},
   "outputs": [],
   "source": [
    "umbral = modify.shape[0] * 0.6\n",
    "cols_to_work = []\n",
    "for c in modify.columns:\n",
    "    if modify[c].notna().sum() > umbral:\n",
    "        cols_to_work.append(c)\n",
    "\n",
    "cols_to_work.append('hora')\n",
    "final_df = modify[cols_to_work]\n",
    "\n",
    "final_df.shape"
   ]
  },
  {
   "cell_type": "code",
   "execution_count": 60,
   "id": "8b17c4f8",
   "metadata": {},
   "outputs": [],
   "source": [
    "final_df.columns"
   ]
  },
  {
   "cell_type": "markdown",
   "id": "e9b5a493",
   "metadata": {},
   "source": [
    "**Eliminamos toda columna con su contenido ya previamente contenido en otra.**\n",
    "\n",
    "De otro modo, nos quedamos con aquellas que continen la informacion ya procesada."
   ]
  },
  {
   "cell_type": "code",
   "execution_count": 61,
   "id": "be20c3e4",
   "metadata": {},
   "outputs": [],
   "source": [
    "cols = ['fecha', 'hora', 'operator', 'total_personas', 'cant_pasajeros', 'cant_tripulantes', \n",
    "        'total_fallecidos', 'pasajeros_fallecidos', 'tripulantes_fallecidos', \n",
    "        'pais_accidente', 'estado_accidente', 'pais_salida', 'estado_salida', 'pais_destino', 'estado_destino',\n",
    "        'primer_vuelo', 'aircraft_damage', 'razon', 'fase', 'narrative']\n",
    "\n",
    "final_df = final_df[cols]\n",
    "\n",
    "final_df.shape"
   ]
  },
  {
   "cell_type": "markdown",
   "id": "4ca298b7",
   "metadata": {},
   "source": [
    "**Conservamos toda columna con un numero de valores unicos menor al 75% de los datos.**\n",
    "\n",
    "Exceptuando narrative."
   ]
  },
  {
   "cell_type": "code",
   "execution_count": 62,
   "id": "322bfaa5",
   "metadata": {},
   "outputs": [],
   "source": [
    "umbral = modify.shape[0] * 0.75\n",
    "cols_to_work = []\n",
    "for c in final_df.columns:\n",
    "    if final_df[c].unique().size < umbral:\n",
    "        cols_to_work.append(c)\n",
    "\n",
    "cols_to_work.append('narrative')\n",
    "final_df = final_df[cols_to_work]\n",
    "final_df.shape"
   ]
  },
  {
   "cell_type": "code",
   "execution_count": 63,
   "id": "93d8d177",
   "metadata": {},
   "outputs": [],
   "source": [
    "final_df.columns"
   ]
  },
  {
   "cell_type": "markdown",
   "id": "d6649b18",
   "metadata": {},
   "source": [
    "## ALMACENAMOS EL DATASET"
   ]
  },
  {
   "cell_type": "code",
   "execution_count": 64,
   "id": "02f93762",
   "metadata": {},
   "outputs": [],
   "source": [
    "final_df.to_csv('../../data/transform/asn_final_v1.csv', header=True, index=False, sep=',', mode='w')"
   ]
  }
 ],
 "metadata": {
  "kernelspec": {
   "display_name": "Python 3 (ipykernel)",
   "language": "python",
   "name": "python3"
  },
  "language_info": {
   "codemirror_mode": {
    "name": "ipython",
    "version": 3
   },
   "file_extension": ".py",
   "mimetype": "text/x-python",
   "name": "python",
   "nbconvert_exporter": "python",
   "pygments_lexer": "ipython3",
   "version": "3.10.10"
  }
 },
 "nbformat": 4,
 "nbformat_minor": 5
}
